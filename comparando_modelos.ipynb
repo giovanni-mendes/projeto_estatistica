{
 "cells": [
  {
   "cell_type": "code",
   "execution_count": 19,
   "metadata": {},
   "outputs": [],
   "source": [
    "import pandas as pd\n",
    "import numpy as np\n",
    "from sklearn.model_selection import train_test_split\n",
    "from sklearn.metrics import accuracy_score, confusion_matrix, classification_report\n",
    "import matplotlib.pyplot as plt"
   ]
  },
  {
   "cell_type": "code",
   "execution_count": 20,
   "metadata": {},
   "outputs": [],
   "source": [
    "from sklearn.preprocessing import LabelEncoder\n",
    "from sklearn.preprocessing import OneHotEncoder\n",
    "from sklearn.compose import ColumnTransformer"
   ]
  },
  {
   "cell_type": "code",
   "execution_count": 21,
   "metadata": {},
   "outputs": [
    {
     "name": "stderr",
     "output_type": "stream",
     "text": [
      "C:\\Users\\dpalo\\AppData\\Local\\Temp\\ipykernel_9340\\274402894.py:1: DtypeWarning: Columns (15,16,18,20) have mixed types. Specify dtype option on import or set low_memory=False.\n",
      "  df_usuarios = pd.read_csv('usuarios_novo.csv', sep=';')\n"
     ]
    }
   ],
   "source": [
    "df_usuarios = pd.read_csv('usuarios_novo.csv', sep=';')\n",
    "df_abordagem = pd.read_csv('abordagem_novo.csv', sep=';', low_memory=False)"
   ]
  },
  {
   "cell_type": "code",
   "execution_count": 22,
   "metadata": {},
   "outputs": [],
   "source": [
    "condicao = [(df_abordagem['Tem_Interesse_de_Realizar_algum_Curso'] == 'nao_tem_interesse')]\n",
    "df_abordagem['interesse_curso'] = np.select(condicao, ['Não'], 'Sim')"
   ]
  },
  {
   "cell_type": "code",
   "execution_count": 23,
   "metadata": {},
   "outputs": [],
   "source": [
    "df_auxiliar_1 = df_usuarios.loc[:, ['Idade',\n",
    "                  'Grupo_Familiar',\n",
    "                  'Cor_Etnia',\n",
    "                  'Sexo']]\n",
    "\n",
    "df_auxiliar_2 = df_abordagem.loc[:, ['Tempo_de_Permanência_na_Rua',\n",
    "                     'Escolaridade','Estuda',\n",
    "                     'Recebe_Benefício',\n",
    "                     'interesse_curso',\n",
    "                     'Trabalha_com_Carteira_Assinada',\n",
    "                     'Usa_Substância_Psicoativa_',\n",
    "                     'Aceita_Acolhimento']]\n",
    "\n",
    "df_modelo = pd.concat([df_auxiliar_1, df_auxiliar_2], axis=1)\n",
    "\n",
    "\n",
    "df_modelo.dropna(inplace=True)"
   ]
  },
  {
   "cell_type": "code",
   "execution_count": 24,
   "metadata": {},
   "outputs": [],
   "source": [
    "df_drogas = df_modelo['Usa_Substância_Psicoativa_'].str.get_dummies(sep=',')\n",
    "df_modelo.drop(columns=['Usa_Substância_Psicoativa_'])\n",
    "df_modelo = pd.concat([df_modelo, df_drogas], axis=1)"
   ]
  },
  {
   "cell_type": "code",
   "execution_count": 25,
   "metadata": {},
   "outputs": [],
   "source": [
    "df_modelo = df_modelo[['Idade', # Reorganizando\n",
    " 'Grupo_Familiar',\n",
    " 'Cor_Etnia',\n",
    " 'Sexo',\n",
    " 'Tempo_de_Permanência_na_Rua',\n",
    " 'Escolaridade',\n",
    " 'Estuda',\n",
    " 'Recebe_Benefício',\n",
    " 'interesse_curso',\n",
    " 'Trabalha_com_Carteira_Assinada',\n",
    " 'alcool',\n",
    " 'cocaina',\n",
    " 'crack',\n",
    " 'inalantes',\n",
    " 'maconha',\n",
    " 'nao_usa',\n",
    " 'ns_nr',\n",
    " 'outros',\n",
    " 'sinteticas',\n",
    " 'tabaco',\n",
    " 'todas',\n",
    " 'Aceita_Acolhimento']]"
   ]
  },
  {
   "cell_type": "code",
   "execution_count": 26,
   "metadata": {},
   "outputs": [],
   "source": [
    "previsores = df_modelo.iloc[:, 0:-1].values"
   ]
  },
  {
   "cell_type": "code",
   "execution_count": 27,
   "metadata": {},
   "outputs": [],
   "source": [
    "for i in range(1, 11):\n",
    "    previsores[:, i] = LabelEncoder().fit_transform(previsores[:, i]) #Passando o label encoder em todas as colunas categóricas restantes"
   ]
  },
  {
   "cell_type": "code",
   "execution_count": 28,
   "metadata": {},
   "outputs": [],
   "source": [
    "alvo = df_modelo.iloc[:, -1].values"
   ]
  },
  {
   "cell_type": "code",
   "execution_count": 29,
   "metadata": {},
   "outputs": [],
   "source": [
    "previsores = ColumnTransformer(transformers=[('OneHot', OneHotEncoder(), [2, 3, 4, 5, 7])], #Passando o OneHot nas variáveis categóricas\n",
    "                               remainder='passthrough').fit_transform(previsores)"
   ]
  },
  {
   "cell_type": "markdown",
   "metadata": {},
   "source": [
    "## Separando em Treino e Teste"
   ]
  },
  {
   "cell_type": "code",
   "execution_count": 30,
   "metadata": {},
   "outputs": [],
   "source": [
    "from imblearn.over_sampling import SMOTE #Equilibrando a variável alvo com SMOTE\n",
    "smote = SMOTE(sampling_strategy='minority')\n",
    "previsores, alvo = smote.fit_resample(previsores, alvo)"
   ]
  },
  {
   "cell_type": "code",
   "execution_count": 31,
   "metadata": {},
   "outputs": [],
   "source": [
    "x_treino, x_teste, y_treino, y_teste = train_test_split(previsores, alvo, test_size=0.2, random_state = 1, stratify=alvo)\n",
    "x_treino, x_val, y_treino, y_val = train_test_split(x_treino, y_treino, test_size=0.2, random_state = 1, stratify=y_treino)"
   ]
  },
  {
   "cell_type": "code",
   "execution_count": 32,
   "metadata": {},
   "outputs": [
    {
     "name": "stdout",
     "output_type": "stream",
     "text": [
      "TREINO - NÃO 17942\n",
      "TREINO - SIM 17941\n",
      "VALIDAÇÃO - NÃO 4485\n",
      "VALIDAÇÃO - SIM 4486\n",
      "TEST - NÃO 5607\n",
      "TEST - SIM 5607\n"
     ]
    }
   ],
   "source": [
    "print('TREINO - NÃO', len([i for i in y_treino if i == 'nao']))\n",
    "print('TREINO - SIM', len([i for i in y_treino if i == 'sim']))\n",
    "print('VALIDAÇÃO - NÃO', len([i for i in y_val if i == 'nao']))\n",
    "print('VALIDAÇÃO - SIM', len([i for i in y_val if i == 'sim']))\n",
    "print('TEST - NÃO', len([i for i in y_teste if i == 'nao']))\n",
    "print('TEST - SIM', len([i for i in y_teste if i == 'sim']))"
   ]
  },
  {
   "cell_type": "code",
   "execution_count": 33,
   "metadata": {},
   "outputs": [],
   "source": [
    "from sklearn.tree import DecisionTreeClassifier\n",
    "from sklearn.ensemble import RandomForestClassifier\n",
    "from sklearn.svm import SVC\n",
    "from sklearn.neighbors import KNeighborsClassifier\n",
    "from tabulate import tabulate\n",
    "import numpy as np\n",
    "from tqdm import tqdm"
   ]
  },
  {
   "cell_type": "code",
   "execution_count": 34,
   "metadata": {},
   "outputs": [],
   "source": [
    "classificadores = [\n",
    "    {\n",
    "        'nome':'DCT',\n",
    "        'classificador':DecisionTreeClassifier(criterion='entropy')\n",
    "    },\n",
    "    {\n",
    "        'nome':'RF',\n",
    "        'classificador':RandomForestClassifier(criterion='entropy')\n",
    "    },\n",
    "    # {\n",
    "    #     'nome':'SVM',\n",
    "    #     'classificador':SVC()\n",
    "    # },\n",
    "    {\n",
    "        'nome':'KNN',\n",
    "        'classificador':KNeighborsClassifier()\n",
    "    }\n",
    "]"
   ]
  },
  {
   "cell_type": "code",
   "execution_count": 35,
   "metadata": {},
   "outputs": [
    {
     "name": "stdout",
     "output_type": "stream",
     "text": [
      "+--------+---------------------------------------------+------------+\n",
      "| nome   | classificador                               |   acuracia |\n",
      "|--------+---------------------------------------------+------------|\n",
      "| DCT    | DecisionTreeClassifier(criterion='entropy') |   0.842047 |\n",
      "| RF     | RandomForestClassifier(criterion='entropy') |   0.876714 |\n",
      "| KNN    | KNeighborsClassifier()                      |   0.764686 |\n",
      "+--------+---------------------------------------------+------------+\n"
     ]
    }
   ],
   "source": [
    "# Analisando a acurácia de cada classificador\n",
    "for classificador in classificadores:\n",
    "    classificador['classificador'].fit(x_treino, y_treino)\n",
    "    previsoes = classificador['classificador'].predict(x_val)\n",
    "    classificador['acuracia'] = accuracy_score(y_val, previsoes)\n",
    "print(tabulate(classificadores, headers='keys', tablefmt='psql'))"
   ]
  },
  {
   "cell_type": "markdown",
   "metadata": {},
   "source": [
    "## E se algum modelo deu azar?"
   ]
  },
  {
   "cell_type": "code",
   "execution_count": 36,
   "metadata": {},
   "outputs": [
    {
     "name": "stderr",
     "output_type": "stream",
     "text": [
      "DCT: 100%|██████████| 50/50 [00:21<00:00,  2.36it/s]\n",
      "RF: 100%|██████████| 50/50 [05:46<00:00,  6.93s/it]\n"
     ]
    }
   ],
   "source": [
    "num_amostras = 50\n",
    "for classificador in classificadores:\n",
    "    # KNN não tem variância\n",
    "    if classificador['nome'] == 'KNN':\n",
    "        classificador['acuracias'] = [classificador['acuracia']] * num_amostras\n",
    "    else:\n",
    "        classificador['acuracias'] = [\n",
    "            accuracy_score(\n",
    "                y_teste,\n",
    "                classificador['classificador'].fit(x_treino, y_treino).predict(x_teste)\n",
    "            ) for _ in tqdm(range(num_amostras), desc=classificador['nome'])\n",
    "        ]\n",
    "    classificador['media'] = np.mean(classificador['acuracias'])\n",
    "    classificador['desvio_padrao'] = np.std(classificador['acuracias'])"
   ]
  },
  {
   "cell_type": "code",
   "execution_count": 37,
   "metadata": {},
   "outputs": [
    {
     "name": "stdout",
     "output_type": "stream",
     "text": [
      "+--------+---------------------------------------------+------------+------------------------------------------------------------------------------------------------------------------------------------------------------------------------------------------------------------------------------------------------------------------------------------------------------------------------------------------------------------------------------------------------------------------------------------------------------------------------------------------------------------------------------------------------------------------------------------------------------------------------------------------------------------------------------------------------------------------------------------------------------------------------------------------------------------------------------------------------------------------------------------------------------------------------------------------------------------------------------------------------------------------------------------------+----------+-----------------+\n",
      "| nome   | classificador                               |   acuracia | acuracias                                                                                                                                                                                                                                                                                                                                                                                                                                                                                                                                                                                                                                                                                                                                                                                                                                                                                                                                                                                                                                |    media |   desvio_padrao |\n",
      "|--------+---------------------------------------------+------------+------------------------------------------------------------------------------------------------------------------------------------------------------------------------------------------------------------------------------------------------------------------------------------------------------------------------------------------------------------------------------------------------------------------------------------------------------------------------------------------------------------------------------------------------------------------------------------------------------------------------------------------------------------------------------------------------------------------------------------------------------------------------------------------------------------------------------------------------------------------------------------------------------------------------------------------------------------------------------------------------------------------------------------------+----------+-----------------|\n",
      "| DCT    | DecisionTreeClassifier(criterion='entropy') |   0.842047 | [0.8444801141430355, 0.8443909398965579, 0.8447476368824683, 0.842964151952916, 0.8443017656500803, 0.8442125914036026, 0.8448368111289459, 0.8473336900303192, 0.8476012127697521, 0.8419832352416622, 0.843677545924737, 0.8463527733190654, 0.8444801141430355, 0.8443909398965579, 0.8450151596219012, 0.8443909398965579, 0.8467986445514536, 0.8447476368824683, 0.8467094703049759, 0.8454610308542893, 0.8448368111289459, 0.8459069020866774, 0.8456393793472445, 0.844123417157125, 0.845550205100767, 0.8450151596219012, 0.845550205100767, 0.8445692883895131, 0.8439450686641697, 0.8446584626359908, 0.8438558944176922, 0.843677545924737, 0.8425182807205279, 0.8433208489388264, 0.8477795612627074, 0.845550205100767, 0.8442125914036026, 0.8434991974317817, 0.8449259853754236, 0.8448368111289459, 0.8442125914036026, 0.8443017656500803, 0.8448368111289459, 0.8443909398965579, 0.8445692883895131, 0.8439450686641697, 0.8451043338683788, 0.844123417157125, 0.8457285535937221, 0.8426074549670055]         | 0.844733 |     0.00119684  |\n",
      "| RF     | RandomForestClassifier(criterion='entropy') |   0.876714 | [0.8822899946495452, 0.8838951310861424, 0.8828250401284109, 0.883270911360799, 0.882557517388978, 0.8830033886213662, 0.8809523809523809, 0.8824683431425004, 0.88211164615659, 0.883270911360799, 0.8822899946495452, 0.8823791688960229, 0.8835384341002318, 0.8817549491706795, 0.88211164615659, 0.8820224719101124, 0.8824683431425004, 0.8818441234171571, 0.8838951310861424, 0.8838951310861424, 0.8829142143748885, 0.8830033886213662, 0.8817549491706795, 0.8822899946495452, 0.88211164615659, 0.8830925628678438, 0.8841626538255751, 0.882557517388978, 0.8826466916354557, 0.8822008204030676, 0.8846976993044409, 0.8833600856072766, 0.8826466916354557, 0.8828250401284109, 0.88211164615659, 0.8837167825931871, 0.8818441234171571, 0.8806848582129481, 0.8838059568396647, 0.8838951310861424, 0.8822899946495452, 0.8836276083467095, 0.8838951310861424, 0.8833600856072766, 0.8824683431425004, 0.8827358658819333, 0.8828250401284109, 0.8846085250579633, 0.8828250401284109, 0.8819332976636347]             | 0.882795 |     0.000851903 |\n",
      "| KNN    | KNeighborsClassifier()                      |   0.764686 | [0.7646862111247352, 0.7646862111247352, 0.7646862111247352, 0.7646862111247352, 0.7646862111247352, 0.7646862111247352, 0.7646862111247352, 0.7646862111247352, 0.7646862111247352, 0.7646862111247352, 0.7646862111247352, 0.7646862111247352, 0.7646862111247352, 0.7646862111247352, 0.7646862111247352, 0.7646862111247352, 0.7646862111247352, 0.7646862111247352, 0.7646862111247352, 0.7646862111247352, 0.7646862111247352, 0.7646862111247352, 0.7646862111247352, 0.7646862111247352, 0.7646862111247352, 0.7646862111247352, 0.7646862111247352, 0.7646862111247352, 0.7646862111247352, 0.7646862111247352, 0.7646862111247352, 0.7646862111247352, 0.7646862111247352, 0.7646862111247352, 0.7646862111247352, 0.7646862111247352, 0.7646862111247352, 0.7646862111247352, 0.7646862111247352, 0.7646862111247352, 0.7646862111247352, 0.7646862111247352, 0.7646862111247352, 0.7646862111247352, 0.7646862111247352, 0.7646862111247352, 0.7646862111247352, 0.7646862111247352, 0.7646862111247352, 0.7646862111247352] | 0.764686 |     1.11022e-16 |\n",
      "+--------+---------------------------------------------+------------+------------------------------------------------------------------------------------------------------------------------------------------------------------------------------------------------------------------------------------------------------------------------------------------------------------------------------------------------------------------------------------------------------------------------------------------------------------------------------------------------------------------------------------------------------------------------------------------------------------------------------------------------------------------------------------------------------------------------------------------------------------------------------------------------------------------------------------------------------------------------------------------------------------------------------------------------------------------------------------------------------------------------------------------+----------+-----------------+\n"
     ]
    }
   ],
   "source": [
    "print(tabulate(classificadores, headers='keys', tablefmt='psql'))"
   ]
  },
  {
   "cell_type": "code",
   "execution_count": 38,
   "metadata": {},
   "outputs": [
    {
     "data": {
      "image/png": "[encoded data removed]",
      "text/plain": [
       "<Figure size 640x480 with 1 Axes>"
      ]
     },
     "metadata": {},
     "output_type": "display_data"
    }
   ],
   "source": [
    "plt.boxplot([classificador['acuracias'] for classificador in classificadores],\n",
    "            labels=[classificador['nome'] for classificador in classificadores])\n",
    "plt.grid()\n",
    "plt.title('Acurácia dos classificadores')\n",
    "plt.ylabel('Acurácia')\n",
    "plt.xlabel('Classificador')\n",
    "plt.show()"
   ]
  },
  {
   "cell_type": "markdown",
   "metadata": {},
   "source": [
    "# Foi azar?"
   ]
  },
  {
   "cell_type": "markdown",
   "metadata": {},
   "source": [
    "O gráfico mostra que o classificador Random Forest apresenta uma maior acurácia, mas para analisar se os resultados são estatísticamente relevantes dos outros é usado o teste de Wilcoxon, que analisa se 2 grupos de amostras são estatísticamente diferentes."
   ]
  },
  {
   "cell_type": "code",
   "execution_count": 39,
   "metadata": {},
   "outputs": [
    {
     "name": "stdout",
     "output_type": "stream",
     "text": [
      "Há diferença estatística entre os classificadores DCT e RF\n",
      "Há diferença estatística entre os classificadores DCT e KNN\n",
      "Há diferença estatística entre os classificadores RF e KNN\n"
     ]
    }
   ],
   "source": [
    "from scipy.stats import wilcoxon\n",
    "\n",
    "\n",
    "def avaliar_hipotese_nula(classificador_1, classificador_2):\n",
    "    _, p_valor = wilcoxon(classificador_1['acuracias'], classificador_2['acuracias'])\n",
    "    if p_valor > 0.05:\n",
    "        print(f'Não há diferença estatística entre os classificadores {classificador_1[\"nome\"]} e {classificador_2[\"nome\"]}')\n",
    "    else:\n",
    "        print(f'Há diferença estatística entre os classificadores {classificador_1[\"nome\"]} e {classificador_2[\"nome\"]}')\n",
    "\n",
    "avaliar_hipotese_nula(classificadores[0], classificadores[1])\n",
    "avaliar_hipotese_nula(classificadores[0], classificadores[2])\n",
    "avaliar_hipotese_nula(classificadores[1], classificadores[2])"
   ]
  },
  {
   "cell_type": "markdown",
   "metadata": {},
   "source": [
    "Por conta disso, podemos afirmar que RF é superior aos outros modelos (pois a média das acurácias é maior) e que as diferenças entre eles são estatísticamente relevantes (pelo teste de Wilcoxon com valor p menor a 0.05)."
   ]
  },
  {
   "cell_type": "markdown",
   "metadata": {},
   "source": [
    "# Testando no conjunto do teste"
   ]
  },
  {
   "cell_type": "code",
   "execution_count": 40,
   "metadata": {},
   "outputs": [
    {
     "data": {
      "text/plain": [
       "(35883, 49)"
      ]
     },
     "execution_count": 40,
     "metadata": {},
     "output_type": "execute_result"
    }
   ],
   "source": [
    "x_treino.shape"
   ]
  },
  {
   "cell_type": "code",
   "execution_count": 41,
   "metadata": {},
   "outputs": [
    {
     "data": {
      "text/plain": [
       "(8971, 49)"
      ]
     },
     "execution_count": 41,
     "metadata": {},
     "output_type": "execute_result"
    }
   ],
   "source": [
    "x_val.shape"
   ]
  },
  {
   "cell_type": "code",
   "execution_count": 42,
   "metadata": {},
   "outputs": [
    {
     "data": {
      "text/plain": [
       "(44854, 49)"
      ]
     },
     "execution_count": 42,
     "metadata": {},
     "output_type": "execute_result"
    }
   ],
   "source": [
    "# Concatenate the training and validation sets: x_train_all]\n",
    "x_train_all = np.concatenate((x_treino, x_val), axis=0)\n",
    "x_train_all.shape"
   ]
  },
  {
   "cell_type": "code",
   "execution_count": 43,
   "metadata": {},
   "outputs": [],
   "source": [
    "for classificador in classificadores:\n",
    "    classificador['acuracia-test'] = accuracy_score(y_teste, classificador['classificador'].fit(np.concatenate((x_treino, x_val), axis=0), np.concatenate((y_treino, y_val), axis=0)).predict(x_teste))"
   ]
  },
  {
   "cell_type": "code",
   "execution_count": 44,
   "metadata": {},
   "outputs": [
    {
     "name": "stdout",
     "output_type": "stream",
     "text": [
      "+--------+---------------------------------------------+------------+------------------------------------------------------------------------------------------------------------------------------------------------------------------------------------------------------------------------------------------------------------------------------------------------------------------------------------------------------------------------------------------------------------------------------------------------------------------------------------------------------------------------------------------------------------------------------------------------------------------------------------------------------------------------------------------------------------------------------------------------------------------------------------------------------------------------------------------------------------------------------------------------------------------------------------------------------------------------------------------------------------------------------------------+----------+-----------------+-----------------+\n",
      "| nome   | classificador                               |   acuracia | acuracias                                                                                                                                                                                                                                                                                                                                                                                                                                                                                                                                                                                                                                                                                                                                                                                                                                                                                                                                                                                                                                |    media |   desvio_padrao |   acuracia-test |\n",
      "|--------+---------------------------------------------+------------+------------------------------------------------------------------------------------------------------------------------------------------------------------------------------------------------------------------------------------------------------------------------------------------------------------------------------------------------------------------------------------------------------------------------------------------------------------------------------------------------------------------------------------------------------------------------------------------------------------------------------------------------------------------------------------------------------------------------------------------------------------------------------------------------------------------------------------------------------------------------------------------------------------------------------------------------------------------------------------------------------------------------------------------+----------+-----------------+-----------------|\n",
      "| DCT    | DecisionTreeClassifier(criterion='entropy') |   0.842047 | [0.8444801141430355, 0.8443909398965579, 0.8447476368824683, 0.842964151952916, 0.8443017656500803, 0.8442125914036026, 0.8448368111289459, 0.8473336900303192, 0.8476012127697521, 0.8419832352416622, 0.843677545924737, 0.8463527733190654, 0.8444801141430355, 0.8443909398965579, 0.8450151596219012, 0.8443909398965579, 0.8467986445514536, 0.8447476368824683, 0.8467094703049759, 0.8454610308542893, 0.8448368111289459, 0.8459069020866774, 0.8456393793472445, 0.844123417157125, 0.845550205100767, 0.8450151596219012, 0.845550205100767, 0.8445692883895131, 0.8439450686641697, 0.8446584626359908, 0.8438558944176922, 0.843677545924737, 0.8425182807205279, 0.8433208489388264, 0.8477795612627074, 0.845550205100767, 0.8442125914036026, 0.8434991974317817, 0.8449259853754236, 0.8448368111289459, 0.8442125914036026, 0.8443017656500803, 0.8448368111289459, 0.8443909398965579, 0.8445692883895131, 0.8439450686641697, 0.8451043338683788, 0.844123417157125, 0.8457285535937221, 0.8426074549670055]         | 0.844733 |     0.00119684  |        0.845194 |\n",
      "| RF     | RandomForestClassifier(criterion='entropy') |   0.876714 | [0.8822899946495452, 0.8838951310861424, 0.8828250401284109, 0.883270911360799, 0.882557517388978, 0.8830033886213662, 0.8809523809523809, 0.8824683431425004, 0.88211164615659, 0.883270911360799, 0.8822899946495452, 0.8823791688960229, 0.8835384341002318, 0.8817549491706795, 0.88211164615659, 0.8820224719101124, 0.8824683431425004, 0.8818441234171571, 0.8838951310861424, 0.8838951310861424, 0.8829142143748885, 0.8830033886213662, 0.8817549491706795, 0.8822899946495452, 0.88211164615659, 0.8830925628678438, 0.8841626538255751, 0.882557517388978, 0.8826466916354557, 0.8822008204030676, 0.8846976993044409, 0.8833600856072766, 0.8826466916354557, 0.8828250401284109, 0.88211164615659, 0.8837167825931871, 0.8818441234171571, 0.8806848582129481, 0.8838059568396647, 0.8838951310861424, 0.8822899946495452, 0.8836276083467095, 0.8838951310861424, 0.8833600856072766, 0.8824683431425004, 0.8827358658819333, 0.8828250401284109, 0.8846085250579633, 0.8828250401284109, 0.8819332976636347]             | 0.882795 |     0.000851903 |        0.883182 |\n",
      "| KNN    | KNeighborsClassifier()                      |   0.764686 | [0.7646862111247352, 0.7646862111247352, 0.7646862111247352, 0.7646862111247352, 0.7646862111247352, 0.7646862111247352, 0.7646862111247352, 0.7646862111247352, 0.7646862111247352, 0.7646862111247352, 0.7646862111247352, 0.7646862111247352, 0.7646862111247352, 0.7646862111247352, 0.7646862111247352, 0.7646862111247352, 0.7646862111247352, 0.7646862111247352, 0.7646862111247352, 0.7646862111247352, 0.7646862111247352, 0.7646862111247352, 0.7646862111247352, 0.7646862111247352, 0.7646862111247352, 0.7646862111247352, 0.7646862111247352, 0.7646862111247352, 0.7646862111247352, 0.7646862111247352, 0.7646862111247352, 0.7646862111247352, 0.7646862111247352, 0.7646862111247352, 0.7646862111247352, 0.7646862111247352, 0.7646862111247352, 0.7646862111247352, 0.7646862111247352, 0.7646862111247352, 0.7646862111247352, 0.7646862111247352, 0.7646862111247352, 0.7646862111247352, 0.7646862111247352, 0.7646862111247352, 0.7646862111247352, 0.7646862111247352, 0.7646862111247352, 0.7646862111247352] | 0.764686 |     1.11022e-16 |        0.784466 |\n",
      "+--------+---------------------------------------------+------------+------------------------------------------------------------------------------------------------------------------------------------------------------------------------------------------------------------------------------------------------------------------------------------------------------------------------------------------------------------------------------------------------------------------------------------------------------------------------------------------------------------------------------------------------------------------------------------------------------------------------------------------------------------------------------------------------------------------------------------------------------------------------------------------------------------------------------------------------------------------------------------------------------------------------------------------------------------------------------------------------------------------------------------------+----------+-----------------+-----------------+\n"
     ]
    }
   ],
   "source": [
    "print(tabulate(classificadores, headers='keys', tablefmt='psql'))"
   ]
  },
  {
   "cell_type": "markdown",
   "metadata": {},
   "source": [
    "Já testando no conjunto do teste que nunca foi visto, dá para perceber que realmente RF apresenta uma maior acurácia"
   ]
  }
 ],
 "metadata": {
  "hide_input": false,
  "kernelspec": {
   "display_name": "Python 3 (ipykernel)",
   "language": "python",
   "name": "python3"
  },
  "language_info": {
   "codemirror_mode": {
    "name": "ipython",
    "version": 3
   },
   "file_extension": ".py",
   "mimetype": "text/x-python",
   "name": "python",
   "nbconvert_exporter": "python",
   "pygments_lexer": "ipython3",
   "version": "3.11.5"
  },
  "varInspector": {
   "cols": {
    "lenName": 16,
    "lenType": 16,
    "lenVar": 40
   },
   "kernels_config": {
    "python": {
     "delete_cmd_postfix": "",
     "delete_cmd_prefix": "del ",
     "library": "var_list.py",
     "varRefreshCmd": "print(var_dic_list())"
    },
    "r": {
     "delete_cmd_postfix": ") ",
     "delete_cmd_prefix": "rm(",
     "library": "var_list.r",
     "varRefreshCmd": "cat(var_dic_list()) "
    }
   },
   "types_to_exclude": [
    "module",
    "function",
    "builtin_function_or_method",
    "instance",
    "_Feature"
   ],
   "window_display": false
  }
 },
 "nbformat": 4,
 "nbformat_minor": 2
}
